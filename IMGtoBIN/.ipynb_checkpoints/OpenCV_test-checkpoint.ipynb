{
 "cells": [
  {
   "cell_type": "code",
   "execution_count": 1,
   "metadata": {},
   "outputs": [
    {
     "name": "stdout",
     "output_type": "stream",
     "text": [
      "(100, 100)\n",
      "(100, 100)\n"
     ]
    }
   ],
   "source": [
    "import cv2\n",
    "import numpy as np\n",
    "%matplotlib inline\n",
    "import pandas as pd \n",
    "\n",
    "filename = 'geeks.bmp'\n",
    "img = cv2.imread(filename)\n",
    "gray = cv2.cvtColor(img,cv2.COLOR_BGR2GRAY)\n",
    "gray = np.float32(gray)\n",
    "print(gray.shape)\n",
    "dst = cv2.cornerHarris(gray,2,3,0.04)\n",
    "print(dst.shape)\n",
    "#result is dilated for marking the corners, not important\n",
    "dst = cv2.dilate(dst,None)\n",
    "#print(dst)\n",
    "# Threshold for an optimal value, it may vary depending on the image.\n",
    "img[dst>0.01*dst.max()]=[0,0,255]\n",
    "corner = np.argwhere(dst>0.01*dst.max())\n",
    "\n",
    "#cv2.imshow('dst',img)\n",
    "\n",
    "if cv2.waitKey(0) & 0xff == 27:\n",
    "    cv2.destroyAllWindows()\n",
    "\n"
   ]
  },
  {
   "cell_type": "markdown",
   "metadata": {},
   "source": [
    "The content of the img is:"
   ]
  },
  {
   "cell_type": "code",
   "execution_count": 2,
   "metadata": {},
   "outputs": [
    {
     "name": "stdout",
     "output_type": "stream",
     "text": [
      "[[100.  11. 202. 254. 254. 254. 254. 254. 253. 253. 253. 253. 253. 253.]\n",
      " [254. 254. 254. 254. 254. 254. 254. 254. 253. 253. 253. 253. 253. 253.]\n",
      " [254. 254. 254. 254. 254. 254. 254. 254. 254. 254. 254. 254. 254. 254.]\n",
      " [254. 254. 254. 254. 254. 254. 254. 254. 254. 254. 254. 254. 254. 254.]\n",
      " [254. 254. 254. 254. 254. 254. 254. 254. 254. 254. 254. 254. 254. 254.]]\n"
     ]
    },
    {
     "data": {
      "text/plain": [
       "True"
      ]
     },
     "execution_count": 2,
     "metadata": {},
     "output_type": "execute_result"
    }
   ],
   "source": [
    "gray[0,0] = 100\n",
    "gray[0,1] = 201\n",
    "gray[0,2] = 202\n",
    "gray[1,0] = 11\n",
    "gray[99,0] = 1\n",
    "gray[98,0] = 2\n",
    "print (gray[:5,:14])\n",
    "\n",
    "cv2.imwrite(\"mod4.bmp\", gray)"
   ]
  },
  {
   "cell_type": "code",
   "execution_count": 3,
   "metadata": {},
   "outputs": [
    {
     "name": "stdout",
     "output_type": "stream",
     "text": [
      "[[254. 254. 254. ... 253. 253. 253.]\n",
      " [254. 254. 254. ... 253. 253. 253.]\n",
      " [254. 254. 254. ... 254. 254. 254.]\n",
      " ...\n",
      " [254. 254. 254. ... 254. 254. 254.]\n",
      " [254. 254. 254. ... 254. 254. 254.]\n",
      " [254. 254. 254. ... 254. 254. 254.]]\n",
      "(array([ 0,  0,  0, ..., 99, 99, 99], dtype=int64), array([ 7,  8,  9, ..., 89, 90, 91], dtype=int64))\n",
      "9659\n",
      "0\n"
     ]
    }
   ],
   "source": [
    "print(np.nonzero(dst))\n",
    "\n",
    "print(np.count_nonzero(dst))\n",
    "\n",
    "print((dst[dst>250000000]).size)"
   ]
  },
  {
   "cell_type": "code",
   "execution_count": 4,
   "metadata": {},
   "outputs": [],
   "source": [
    "\n",
    "pd.DataFrame(corner).to_csv(\"corner.csv\")"
   ]
  },
  {
   "cell_type": "code",
   "execution_count": 5,
   "metadata": {},
   "outputs": [
    {
     "name": "stdout",
     "output_type": "stream",
     "text": [
      "(49, 2)\n"
     ]
    }
   ],
   "source": [
    "#http://www.kaij.org/blog/?p=89\n",
    "#...and their values\n",
    "min_distance = 10\n",
    "candidate_values = [dst[c[0]][c[1]] for c in corner]\n",
    "\n",
    "#sort candidates\n",
    "index = np.argsort(candidate_values)\n",
    "\n",
    "#store allowed point locations in array\n",
    "allowed_locations = np.zeros(dst.shape)\n",
    "allowed_locations[min_distance:-min_distance,min_distance:-min_distance] = 1\n",
    "\n",
    "#select the best points taking min_distance into account\n",
    "filtered_coords = []\n",
    "for i in index:\n",
    "    if allowed_locations[corner[i][0]][corner[i][1]] == 1:\n",
    "        filtered_coords.append(corner[i])\n",
    "        allowed_locations[(corner[i][0]-min_distance):(corner[i][0]+min_distance),\n",
    "            (corner[i][1]-min_distance):(corner[i][1]+min_distance)] = 0\n",
    "print(np.array(filtered_coords).shape)"
   ]
  },
  {
   "cell_type": "code",
   "execution_count": 6,
   "metadata": {},
   "outputs": [],
   "source": [
    "import numpy as np\n",
    "import cv2\n",
    "\n",
    "img = cv2.imread('chessboard.png')\n",
    "gray = cv2.cvtColor(img,cv2.COLOR_BGR2GRAY)\n",
    "gray = np.float32(gray)\n",
    "\n",
    "corners = cv2.goodFeaturesToTrack(gray, 100, 0.01, 10)\n",
    "corners = np.int0(corners)\n",
    "\n",
    "for corner in corners:\n",
    "    x,y = corner.ravel()\n",
    "    cv2.circle(img,(x,y),3,255,-1)\n",
    "    \n",
    "cv2.imshow('Corner',img)"
   ]
  },
  {
   "cell_type": "code",
   "execution_count": 7,
   "metadata": {},
   "outputs": [],
   "source": [
    "\n",
    "pd.DataFrame(np.array(filtered_coords)).to_csv(\"corner_filtered.csv\")"
   ]
  },
  {
   "cell_type": "code",
   "execution_count": 8,
   "metadata": {},
   "outputs": [],
   "source": [
    "img[filtered_coords]=[0,0,255]"
   ]
  },
  {
   "cell_type": "code",
   "execution_count": 9,
   "metadata": {},
   "outputs": [],
   "source": [
    "cv2.imshow('dst',img)"
   ]
  },
  {
   "cell_type": "code",
   "execution_count": null,
   "metadata": {},
   "outputs": [],
   "source": []
  }
 ],
 "metadata": {
  "kernelspec": {
   "display_name": "Python 3",
   "language": "python",
   "name": "python3"
  },
  "language_info": {
   "codemirror_mode": {
    "name": "ipython",
    "version": 3
   },
   "file_extension": ".py",
   "mimetype": "text/x-python",
   "name": "python",
   "nbconvert_exporter": "python",
   "pygments_lexer": "ipython3",
   "version": "3.7.0"
  }
 },
 "nbformat": 4,
 "nbformat_minor": 2
}
