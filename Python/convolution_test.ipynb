{
 "cells": [
  {
   "cell_type": "markdown",
   "metadata": {},
   "source": [
    "# Testing different methods of convolution"
   ]
  },
  {
   "cell_type": "code",
   "execution_count": 138,
   "metadata": {},
   "outputs": [],
   "source": [
    "import cv2\n",
    "from scipy import signal as sig\n",
    "import numpy as np"
   ]
  },
  {
   "cell_type": "markdown",
   "metadata": {},
   "source": [
    "# Define Test Array"
   ]
  },
  {
   "cell_type": "code",
   "execution_count": 139,
   "metadata": {},
   "outputs": [
    {
     "name": "stdout",
     "output_type": "stream",
     "text": [
      "[[0 1 2 3 4]\n",
      " [5 6 7 8 9]\n",
      " [0 2 4 6 8]\n",
      " [1 3 5 7 9]\n",
      " [9 8 7 6 5]]\n"
     ]
    }
   ],
   "source": [
    "a = np.array([0,1,2,3,4,5,6,7,8,9,0,2,4,6,8,1,3,5,7,9,9,8,7,6,5], dtype=np.int16)\n",
    "a = a.reshape(5,5)\n",
    "print(a)"
   ]
  },
  {
   "cell_type": "markdown",
   "metadata": {},
   "source": [
    "### Add Padding"
   ]
  },
  {
   "cell_type": "code",
   "execution_count": 140,
   "metadata": {},
   "outputs": [
    {
     "name": "stdout",
     "output_type": "stream",
     "text": [
      "[[0 0 0 0 0 0 0]\n",
      " [0 0 1 2 3 4 0]\n",
      " [0 5 6 7 8 9 0]\n",
      " [0 0 2 4 6 8 0]\n",
      " [0 1 3 5 7 9 0]\n",
      " [0 9 8 7 6 5 0]\n",
      " [0 0 0 0 0 0 0]]\n",
      "(7, 7)\n"
     ]
    }
   ],
   "source": [
    "a_padded = np.pad(a, 1, 'constant', constant_values=0)\n",
    "print(a_padded)\n",
    "print(a_padded.shape)"
   ]
  },
  {
   "cell_type": "markdown",
   "metadata": {},
   "source": [
    "# Scikit Image Convolution"
   ]
  },
  {
   "cell_type": "code",
   "execution_count": 141,
   "metadata": {},
   "outputs": [],
   "source": [
    "def gradient_x(imggray):\n",
    "    ##Sobel operator kernels.\n",
    "    kernel_x = np.array([[-1, 0, 1],[-2, 0, 2],[-1, 0, 1]])\n",
    "    return sig.convolve2d(imggray, kernel_x, mode='same')\n",
    "def gradient_y(imggray):\n",
    "    kernel_y = np.array([[1, 2, 1], [0, 0, 0], [-1, -2, -1]])\n",
    "    return sig.convolve2d(imggray, kernel_y, mode='same')"
   ]
  },
  {
   "cell_type": "code",
   "execution_count": 142,
   "metadata": {},
   "outputs": [
    {
     "name": "stdout",
     "output_type": "stream",
     "text": [
      "[[ -8  -6  -6  -6  14]\n",
      " [-15 -10 -10 -10  25]\n",
      " [-13 -14 -14 -14  27]\n",
      " [-16 -10 -10 -10  26]\n",
      " [-19   0   0   0  19]]\n"
     ]
    }
   ],
   "source": [
    "x_grad = gradient_x(a)\n",
    "print(x_grad)"
   ]
  },
  {
   "cell_type": "markdown",
   "metadata": {},
   "source": [
    "# OpenCV Sobel Operation"
   ]
  },
  {
   "cell_type": "code",
   "execution_count": 143,
   "metadata": {},
   "outputs": [
    {
     "name": "stdout",
     "output_type": "stream",
     "text": [
      "[[  8   6   6   6 -14]\n",
      " [ 15  10  10  10 -25]\n",
      " [ 13  14  14  14 -27]\n",
      " [ 16  10  10  10 -26]\n",
      " [ 19   0   0   0 -19]]\n"
     ]
    }
   ],
   "source": [
    "ddepth = cv2.CV_16S\n",
    "scale = 1\n",
    "delta = 0\n",
    "grad_x = cv2.Sobel(a, ddepth, 1, 0, ksize=3, scale=scale, delta=delta, borderType=cv2.BORDER_CONSTANT)\n",
    "print(grad_x)"
   ]
  },
  {
   "cell_type": "markdown",
   "metadata": {},
   "source": [
    "# Convolution Implementation from Scratch"
   ]
  },
  {
   "cell_type": "code",
   "execution_count": 144,
   "metadata": {},
   "outputs": [
    {
     "name": "stdout",
     "output_type": "stream",
     "text": [
      "kernel size: 3\n",
      "Kernel: \n",
      "[[-1  0  1]\n",
      " [-2  0  2]\n",
      " [-1  0  1]]\n"
     ]
    }
   ],
   "source": [
    "#https://en.m.wikipedia.org/wiki/Kernel_(image_processing)\n",
    "\n",
    "sobel_kernel_x = np.array([-1, 0, 1, -2, 0, 2, -1, 0, 1], dtype=np.int16).reshape(3,3)\n",
    "sobel_kernel_y = np.array([1, 2, 1, 0, 0, 0, -1, -2, -1], dtype=np.int16).reshape(3,3)\n",
    "\n",
    "kernel = sobel_kernel_x\n",
    "\n",
    "kernel_size = kernel.shape[0]\n",
    "print('kernel size: ' + str(kernel_size))\n",
    "print('Kernel: ')\n",
    "print(str(kernel))\n",
    "\n",
    "\n",
    "acc= 0\n",
    "\n",
    "def convolve(a):\n",
    "    a = np.asarray(a)\n",
    "    dest = np.zeros(shape=(a.shape[0]-2, a.shape[1]-2), dtype=np.int16)\n",
    "    print('dest shape:' + str(dest.shape))\n",
    "    row_size = dest.shape[0]\n",
    "    col_size = dest.shape[1]\n",
    "    print('dest row size: ' + str(dest.shape[0]) + ' dest col size: ' + str(dest.shape[1]))\n",
    "    for i in range (row_size):\n",
    "        for j in range (col_size):\n",
    "            acc = 0          \n",
    "            \n",
    "            #print('[' + str(i) + '][' + str(j) + ']')\n",
    "            #print('Convolution: [' + str(i) + '][' + str(j) + ']')\n",
    "            \n",
    "            for k in range (kernel.shape[0]):\n",
    "                for l in range (kernel.shape[1]):\n",
    "                    \n",
    "                    #print('[' + str(k) + '][' + str(l) + ']')\n",
    "                    #print('kernel element: ' + str(kernel[kernel_size-1-k][kernel_size-1-l]))\n",
    "                    #print('a element: ' + str(a[i+k][j+l]))\n",
    "                    \n",
    "                    acc += kernel[kernel_size-1-k][kernel_size-1-l]*a[i+k][j+l]\n",
    "                    \n",
    "            #print('dest[' + str(i) + '][' + str(j) + ']')\n",
    "            \n",
    "            dest[i][j] = acc\n",
    "    return dest\n",
    "            \n"
   ]
  },
  {
   "cell_type": "code",
   "execution_count": 145,
   "metadata": {},
   "outputs": [
    {
     "name": "stdout",
     "output_type": "stream",
     "text": [
      "dest shape:(5, 5)\n",
      "dest row size: 5 dest col size: 5\n",
      "[[ -8  -6  -6  -6  14]\n",
      " [-15 -10 -10 -10  25]\n",
      " [-13 -14 -14 -14  27]\n",
      " [-16 -10 -10 -10  26]\n",
      " [-19   0   0   0  19]]\n"
     ]
    }
   ],
   "source": [
    "res = convolve(a_padded)\n",
    "print(res)"
   ]
  },
  {
   "cell_type": "code",
   "execution_count": null,
   "metadata": {},
   "outputs": [],
   "source": []
  }
 ],
 "metadata": {
  "kernelspec": {
   "display_name": "Python 3",
   "language": "python",
   "name": "python3"
  },
  "language_info": {
   "codemirror_mode": {
    "name": "ipython",
    "version": 3
   },
   "file_extension": ".py",
   "mimetype": "text/x-python",
   "name": "python",
   "nbconvert_exporter": "python",
   "pygments_lexer": "ipython3",
   "version": "3.7.0"
  }
 },
 "nbformat": 4,
 "nbformat_minor": 2
}
